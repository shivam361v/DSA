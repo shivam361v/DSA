{
  "nbformat": 4,
  "nbformat_minor": 0,
  "metadata": {
    "colab": {
      "provenance": [],
      "authorship_tag": "ABX9TyOq3noENgzWNMzIEQOOQOdp",
      "include_colab_link": true
    },
    "kernelspec": {
      "name": "python3",
      "display_name": "Python 3"
    },
    "language_info": {
      "name": "python"
    }
  },
  "cells": [
    {
      "cell_type": "markdown",
      "metadata": {
        "id": "view-in-github",
        "colab_type": "text"
      },
      "source": [
        "<a href=\"https://colab.research.google.com/github/shivam361v/DSA/blob/main/Python_Basics.ipynb\" target=\"_parent\"><img src=\"https://colab.research.google.com/assets/colab-badge.svg\" alt=\"Open In Colab\"/></a>"
      ]
    },
    {
      "cell_type": "code",
      "execution_count": null,
      "metadata": {
        "colab": {
          "base_uri": "https://localhost:8080/"
        },
        "id": "rRuduXTqCiIe",
        "outputId": "72abbfe0-640a-4804-d61b-93e5617b5fad"
      },
      "outputs": [
        {
          "output_type": "stream",
          "name": "stdout",
          "text": [
            "Enter your name ?shivam\n",
            "Hello shivam\n"
          ]
        }
      ],
      "source": [
        "name = input(\"Enter your name ?\");\n",
        "print(\"Hello\", name);"
      ]
    },
    {
      "cell_type": "code",
      "source": [],
      "metadata": {
        "id": "Qc-jYrYt1fx4"
      },
      "execution_count": null,
      "outputs": []
    },
    {
      "cell_type": "code",
      "source": [],
      "metadata": {
        "id": "Vkakp8P_YPZd"
      },
      "execution_count": null,
      "outputs": []
    },
    {
      "cell_type": "code",
      "source": [
        "age = 24\n",
        "print(type(age))\n",
        "print(type(name))"
      ],
      "metadata": {
        "colab": {
          "base_uri": "https://localhost:8080/"
        },
        "id": "OaDLpLuGHnnN",
        "outputId": "92e837ad-4529-4ff5-c87d-d841fc5daa72"
      },
      "execution_count": null,
      "outputs": [
        {
          "output_type": "stream",
          "name": "stdout",
          "text": [
            "<class 'int'>\n",
            "<class 'str'>\n"
          ]
        }
      ]
    },
    {
      "cell_type": "code",
      "source": [
        "ShoppingList = input(\"Enter item to shop from market\");\n",
        "qty = [1, 2, 3, 4, 5];\n",
        "name = (\"Shivam\", \"Vishwakarma\");\n",
        "statement = \"{} will go to market to buy {}\";\n",
        "for x in qty:\n",
        "  print(x);\n",
        "if \"Shivam\" in name:\n",
        "  print(\"Yes, lets go to market\");\n",
        "print( name[1]);\n",
        "print(name[1].upper());\n",
        "print(name[0].split('v'));\n",
        "print(statement.format(name[0], name[1]));\n"
      ],
      "metadata": {
        "colab": {
          "base_uri": "https://localhost:8080/"
        },
        "id": "MtYXxQ6q7rzw",
        "outputId": "c34d8bea-4439-4b72-d0bc-db7a6a84cc25"
      },
      "execution_count": null,
      "outputs": [
        {
          "output_type": "stream",
          "name": "stdout",
          "text": [
            "Enter item to shop from marketdfda\n",
            "1\n",
            "2\n",
            "3\n",
            "4\n",
            "5\n",
            "Yes, lets go to market\n",
            "Vishwakarma\n",
            "VISHWAKARMA\n",
            "['Shi', 'am']\n",
            "Shivam will go to market to buy Vishwakarma\n"
          ]
        }
      ]
    },
    {
      "cell_type": "code",
      "source": [],
      "metadata": {
        "id": "t98VZGMhdgHd"
      },
      "execution_count": null,
      "outputs": []
    },
    {
      "cell_type": "code",
      "source": [
        "sum = 10 + 20;\n",
        "powers = 10 ** 2;\n",
        "name1 = \"shivam\";\n",
        "name2 = \"Shivam\";\n",
        "if sum <= powers :\n",
        "  print('true');\n",
        "if 's' in name1:\n",
        "  print(\"Name contains letter 's' \");\n",
        "if name1 is name2:\n",
        "\n",
        "  print(\"Both names are the same\");"
      ],
      "metadata": {
        "colab": {
          "base_uri": "https://localhost:8080/"
        },
        "id": "SE17B1KrUJLf",
        "outputId": "13675ee1-64a8-46cc-f0ac-cecb32102298"
      },
      "execution_count": null,
      "outputs": [
        {
          "output_type": "stream",
          "name": "stdout",
          "text": [
            "true\n",
            "Name contains letter 's' \n"
          ]
        }
      ]
    },
    {
      "cell_type": "code",
      "source": [
        "#List in python\n",
        "l1 = [1, 2, 3, 4, 5];\n",
        "for i in l1:\n",
        "  print(i);\n",
        "l1.append(6);\n",
        "for i in l1:\n",
        "  print(i);\n",
        "l1.clear()\n",
        "for i in l1:\n",
        "  print(i);\n"
      ],
      "metadata": {
        "colab": {
          "base_uri": "https://localhost:8080/"
        },
        "id": "9drH9te2uDRK",
        "outputId": "05025a63-5e63-4632-dc5e-7b45a9dedff0"
      },
      "execution_count": null,
      "outputs": [
        {
          "output_type": "stream",
          "name": "stdout",
          "text": [
            "1\n",
            "2\n",
            "3\n",
            "4\n",
            "5\n",
            "1\n",
            "2\n",
            "3\n",
            "4\n",
            "5\n",
            "6\n"
          ]
        }
      ]
    },
    {
      "cell_type": "code",
      "source": [
        "#Tuple in python\n",
        "l2 = (1, 2, 3, 4);\n",
        "for i in l2:\n",
        "  print(i);\n",
        "\n",
        "l2 = list(l2);\n",
        "l2[3] = 5;\n",
        "l2 = tuple(l2);\n",
        "\n"
      ],
      "metadata": {
        "colab": {
          "base_uri": "https://localhost:8080/"
        },
        "id": "B1JhsQ5tu7fr",
        "outputId": "f5780c27-c44b-4f7c-9d21-50d37d50da03"
      },
      "execution_count": null,
      "outputs": [
        {
          "output_type": "stream",
          "name": "stdout",
          "text": [
            "1\n",
            "2\n",
            "3\n",
            "4\n"
          ]
        }
      ]
    },
    {
      "cell_type": "code",
      "source": [
        "#Set in python\n",
        "\n",
        "l3 = {1, 2, 3};\n",
        "for i in l3:\n",
        "  print(i);\n",
        "\n",
        "l3.add(3);\n",
        "\n",
        "for i in l3:\n",
        "  print(i);"
      ],
      "metadata": {
        "colab": {
          "base_uri": "https://localhost:8080/"
        },
        "id": "ZVNTxRDEwYGs",
        "outputId": "24bc945e-e945-4875-ec5b-94f4f6446f3d"
      },
      "execution_count": null,
      "outputs": [
        {
          "output_type": "stream",
          "name": "stdout",
          "text": [
            "1\n",
            "2\n",
            "3\n",
            "1\n",
            "2\n",
            "3\n"
          ]
        }
      ]
    },
    {
      "cell_type": "code",
      "source": [
        "# Conditional and loops\n",
        "\n",
        "numbers = [1, 2, 3 , 4, 5 ];\n",
        "\n",
        "for i in numbers :\n",
        "  if i % 2 == 0:\n",
        "    print(\"Even\");\n",
        "  else:\n",
        "    print(\"Odd\");\n",
        "\n",
        "  if(i == 3):\n",
        "    continue;\n",
        "  if(i == 5):\n",
        "    break;\n",
        "  print(i);\n"
      ],
      "metadata": {
        "colab": {
          "base_uri": "https://localhost:8080/"
        },
        "id": "e9999m8PKz3p",
        "outputId": "a8d300b8-748a-4d42-dac5-bbc96ace9c03"
      },
      "execution_count": null,
      "outputs": [
        {
          "output_type": "stream",
          "name": "stdout",
          "text": [
            "Odd\n",
            "1\n",
            "Even\n",
            "2\n",
            "Odd\n",
            "Even\n",
            "4\n",
            "Odd\n"
          ]
        }
      ]
    },
    {
      "cell_type": "markdown",
      "source": [
        "# New Section"
      ],
      "metadata": {
        "id": "y3-aUKYF2_bd"
      }
    },
    {
      "cell_type": "markdown",
      "source": [
        "# New Section"
      ],
      "metadata": {
        "id": "XRV2QiXU3ACw"
      }
    },
    {
      "cell_type": "code",
      "source": [
        "def function():\n",
        "  print(\"This is first function\");\n",
        "function()"
      ],
      "metadata": {
        "colab": {
          "base_uri": "https://localhost:8080/"
        },
        "id": "outrrLVcSc4u",
        "outputId": "cac3f8fa-7e49-4860-aa75-bfe37b5fa09c"
      },
      "execution_count": null,
      "outputs": [
        {
          "output_type": "stream",
          "name": "stdout",
          "text": [
            "This is first function\n"
          ]
        }
      ]
    },
    {
      "cell_type": "markdown",
      "source": [
        "print(\"Black dove, where are you going ?\")\n"
      ],
      "metadata": {
        "id": "eT89FsqsYQ4j"
      }
    },
    {
      "cell_type": "markdown",
      "source": [
        "number = 10\n",
        "type(number)"
      ],
      "metadata": {
        "id": "wgsLSb-7YhGG"
      }
    },
    {
      "cell_type": "code",
      "source": [
        "number = 10\n",
        "type(number)\n",
        "\n"
      ],
      "metadata": {
        "colab": {
          "base_uri": "https://localhost:8080/"
        },
        "id": "XTQg_0RaYtAV",
        "outputId": "d802c3d0-96ae-4886-c955-378a00c899d2"
      },
      "execution_count": null,
      "outputs": [
        {
          "output_type": "execute_result",
          "data": {
            "text/plain": [
              "int"
            ]
          },
          "metadata": {},
          "execution_count": 10
        }
      ]
    },
    {
      "cell_type": "code",
      "source": [
        "str(number)"
      ],
      "metadata": {
        "colab": {
          "base_uri": "https://localhost:8080/",
          "height": 36
        },
        "id": "c_5sJsPCYyKs",
        "outputId": "64c33f99-25b4-45df-a878-20dfea0651e6"
      },
      "execution_count": null,
      "outputs": [
        {
          "output_type": "execute_result",
          "data": {
            "text/plain": [
              "'10'"
            ],
            "application/vnd.google.colaboratory.intrinsic+json": {
              "type": "string"
            }
          },
          "metadata": {},
          "execution_count": 11
        }
      ]
    },
    {
      "cell_type": "code",
      "source": [
        "def greeting(name):\n",
        "  print(\"Ram Ram \" + name)\n",
        "\n",
        "def AreaOfTriangele(n1, n2):\n",
        "  return 0.5 * n1 * n2\n",
        "\n",
        "\n",
        "greeting('shivam')\n",
        "AreaOfTriangele(10, 20)"
      ],
      "metadata": {
        "colab": {
          "base_uri": "https://localhost:8080/"
        },
        "id": "yrid80AOY6wx",
        "outputId": "1d861700-7eb4-45dc-dfbf-4dc1379b4e49"
      },
      "execution_count": null,
      "outputs": [
        {
          "output_type": "stream",
          "name": "stdout",
          "text": [
            "Ram Ram shivam\n"
          ]
        },
        {
          "output_type": "execute_result",
          "data": {
            "text/plain": [
              "100.0"
            ]
          },
          "metadata": {},
          "execution_count": 12
        }
      ]
    },
    {
      "cell_type": "code",
      "source": [
        "print('cat' < 'dog')"
      ],
      "metadata": {
        "colab": {
          "base_uri": "https://localhost:8080/"
        },
        "id": "eVElNMJkaonj",
        "outputId": "39be740f-4537-4ea5-e6d0-b39d4e61d3a4"
      },
      "execution_count": null,
      "outputs": [
        {
          "output_type": "stream",
          "name": "stdout",
          "text": [
            "True\n"
          ]
        }
      ]
    },
    {
      "cell_type": "code",
      "source": [
        "print(1 != \"1\")"
      ],
      "metadata": {
        "colab": {
          "base_uri": "https://localhost:8080/"
        },
        "id": "02sRNsT4bUSV",
        "outputId": "9884b903-ccd4-45ad-a198-77ae1580eb35"
      },
      "execution_count": null,
      "outputs": [
        {
          "output_type": "stream",
          "name": "stdout",
          "text": [
            "True\n"
          ]
        }
      ]
    },
    {
      "cell_type": "code",
      "source": [
        "print(\"Y\" > \"C \" and \"B\" > \"M\")"
      ],
      "metadata": {
        "colab": {
          "base_uri": "https://localhost:8080/"
        },
        "id": "0cfaLdECbl-J",
        "outputId": "05e1af9b-5c64-4396-f1b2-0b19ac2213f5"
      },
      "execution_count": null,
      "outputs": [
        {
          "output_type": "stream",
          "name": "stdout",
          "text": [
            "False\n"
          ]
        }
      ]
    },
    {
      "cell_type": "code",
      "source": [
        "print( not 42 == \"Ans\")"
      ],
      "metadata": {
        "colab": {
          "base_uri": "https://localhost:8080/"
        },
        "id": "wujUGaTWbwjq",
        "outputId": "2fd8e6b1-d35d-4fa0-e749-2d627e473b4f"
      },
      "execution_count": null,
      "outputs": [
        {
          "output_type": "stream",
          "name": "stdout",
          "text": [
            "True\n"
          ]
        }
      ]
    },
    {
      "cell_type": "code",
      "source": [
        "def do_even(number):\n",
        "  return 0 == number % 2\n",
        "\n",
        "do_even(0)"
      ],
      "metadata": {
        "colab": {
          "base_uri": "https://localhost:8080/"
        },
        "id": "B3RdPztRcLUb",
        "outputId": "ced6bd81-7368-4ba7-a735-516d70d75d21"
      },
      "execution_count": null,
      "outputs": [
        {
          "output_type": "execute_result",
          "data": {
            "text/plain": [
              "True"
            ]
          },
          "metadata": {},
          "execution_count": 17
        }
      ]
    },
    {
      "cell_type": "code",
      "source": [
        "x = 0\n",
        "while (x < 5):\n",
        "  #print(\"x = \" + str(x))\n",
        "  x += 1\n",
        "  print(\"x = \" + str(x))"
      ],
      "metadata": {
        "colab": {
          "base_uri": "https://localhost:8080/"
        },
        "id": "es-29BepdhW2",
        "outputId": "7be2d326-c4a8-4693-d46f-5bcc326a1672"
      },
      "execution_count": null,
      "outputs": [
        {
          "output_type": "stream",
          "name": "stdout",
          "text": [
            "x = 1\n",
            "x = 2\n",
            "x = 3\n",
            "x = 4\n",
            "x = 5\n"
          ]
        }
      ]
    },
    {
      "cell_type": "code",
      "source": [
        "def to_celsius(temperature):\n",
        "  return ((temperature - 32) * 5) / 9\n",
        "\n",
        "for i in range(0, 100, 10):\n",
        "  print(round(to_celsius(i)), 2)"
      ],
      "metadata": {
        "colab": {
          "base_uri": "https://localhost:8080/"
        },
        "id": "9aOKqNQjkgeT",
        "outputId": "11c30a72-9442-4502-96d0-0fd48d86adf6"
      },
      "execution_count": null,
      "outputs": [
        {
          "output_type": "stream",
          "name": "stdout",
          "text": [
            "-18 2\n",
            "-12 2\n",
            "-7 2\n",
            "-1 2\n",
            "4 2\n",
            "10 2\n",
            "16 2\n",
            "21 2\n",
            "27 2\n",
            "32 2\n"
          ]
        }
      ]
    },
    {
      "cell_type": "code",
      "source": [
        "name = \"shivam \\n\"  #String multiplication\n",
        "print(name * 5)"
      ],
      "metadata": {
        "colab": {
          "base_uri": "https://localhost:8080/"
        },
        "id": "jkkPgsm7k7nQ",
        "outputId": "9baee1ca-bb94-413c-a835-8b31bf3901a6"
      },
      "execution_count": null,
      "outputs": [
        {
          "output_type": "stream",
          "name": "stdout",
          "text": [
            "shivam \n",
            "shivam \n",
            "shivam \n",
            "shivam \n",
            "shivam \n",
            "\n"
          ]
        }
      ]
    },
    {
      "cell_type": "code",
      "source": [
        "for i in name:\n",
        "  print(i + \" \\n\")"
      ],
      "metadata": {
        "colab": {
          "base_uri": "https://localhost:8080/"
        },
        "id": "6MaJaux-mXiw",
        "outputId": "383361ca-6df4-494d-fd70-3e04010cc7ac"
      },
      "execution_count": null,
      "outputs": [
        {
          "output_type": "stream",
          "name": "stdout",
          "text": [
            "s \n",
            "\n",
            "h \n",
            "\n",
            "i \n",
            "\n",
            "v \n",
            "\n",
            "a \n",
            "\n",
            "m \n",
            "\n",
            "  \n",
            "\n",
            "\n",
            " \n",
            "\n"
          ]
        }
      ]
    },
    {
      "cell_type": "code",
      "source": [
        "name.index('s')"
      ],
      "metadata": {
        "colab": {
          "base_uri": "https://localhost:8080/"
        },
        "id": "AhSI2IxLmmq6",
        "outputId": "3fbc39ed-403b-4981-8cd4-471f4eab9a6a"
      },
      "execution_count": null,
      "outputs": [
        {
          "output_type": "execute_result",
          "data": {
            "text/plain": [
              "0"
            ]
          },
          "metadata": {},
          "execution_count": 24
        }
      ]
    },
    {
      "cell_type": "code",
      "source": [
        "name[1]"
      ],
      "metadata": {
        "colab": {
          "base_uri": "https://localhost:8080/",
          "height": 36
        },
        "id": "-55OXKixmwMI",
        "outputId": "378270e2-2eaa-40ad-9ef6-40f10ef6f55d"
      },
      "execution_count": null,
      "outputs": [
        {
          "output_type": "execute_result",
          "data": {
            "text/plain": [
              "'h'"
            ],
            "application/vnd.google.colaboratory.intrinsic+json": {
              "type": "string"
            }
          },
          "metadata": {},
          "execution_count": 25
        }
      ]
    },
    {
      "cell_type": "code",
      "source": [
        "name[-3]"
      ],
      "metadata": {
        "colab": {
          "base_uri": "https://localhost:8080/",
          "height": 36
        },
        "id": "2Nkbj3vSmrXh",
        "outputId": "829a26e8-2d2d-4291-b654-cbbb93b405ed"
      },
      "execution_count": null,
      "outputs": [
        {
          "output_type": "execute_result",
          "data": {
            "text/plain": [
              "'m'"
            ],
            "application/vnd.google.colaboratory.intrinsic+json": {
              "type": "string"
            }
          },
          "metadata": {},
          "execution_count": 26
        }
      ]
    },
    {
      "cell_type": "code",
      "source": [
        "\n",
        "print(name[1: 3])"
      ],
      "metadata": {
        "colab": {
          "base_uri": "https://localhost:8080/"
        },
        "id": "A-V2Kf0mm9fQ",
        "outputId": "7fedc543-d614-415a-98c5-e54fe1a6d760"
      },
      "execution_count": null,
      "outputs": [
        {
          "output_type": "stream",
          "name": "stdout",
          "text": [
            "un\n"
          ]
        }
      ]
    },
    {
      "cell_type": "code",
      "source": [
        "\"va\" in name"
      ],
      "metadata": {
        "colab": {
          "base_uri": "https://localhost:8080/"
        },
        "id": "vhFFgxyWnIxO",
        "outputId": "7eb8e7cc-02da-421a-ce59-828acf98ce4a"
      },
      "execution_count": null,
      "outputs": [
        {
          "output_type": "execute_result",
          "data": {
            "text/plain": [
              "True"
            ]
          },
          "metadata": {},
          "execution_count": 28
        }
      ]
    },
    {
      "cell_type": "code",
      "source": [
        "print(\"my name is {}\".format(name))"
      ],
      "metadata": {
        "colab": {
          "base_uri": "https://localhost:8080/"
        },
        "id": "OxRi6GOgnTPD",
        "outputId": "cb2ee0d8-98f1-42df-c007-74b3801bf96f"
      },
      "execution_count": null,
      "outputs": [
        {
          "output_type": "stream",
          "name": "stdout",
          "text": [
            "my name is shivam \n",
            "\n"
          ]
        }
      ]
    },
    {
      "cell_type": "code",
      "source": [
        "print(\"i have ${} rupee\".format(500))"
      ],
      "metadata": {
        "colab": {
          "base_uri": "https://localhost:8080/"
        },
        "id": "mrJ-EP5Tnjf9",
        "outputId": "b4d20fdd-1bad-4ac7-976d-b1eb660c126e"
      },
      "execution_count": null,
      "outputs": [
        {
          "output_type": "stream",
          "name": "stdout",
          "text": [
            "i have $500 rupee\n"
          ]
        }
      ]
    },
    {
      "cell_type": "code",
      "source": [
        "for i in range(10):\n",
        "  print(i)"
      ],
      "metadata": {
        "colab": {
          "base_uri": "https://localhost:8080/"
        },
        "id": "a-J5eTazp0dy",
        "outputId": "be43b406-2d10-4be8-9fe3-52c4f6a150e2"
      },
      "execution_count": null,
      "outputs": [
        {
          "output_type": "stream",
          "name": "stdout",
          "text": [
            "0\n",
            "1\n",
            "2\n",
            "3\n",
            "4\n",
            "5\n",
            "6\n",
            "7\n",
            "8\n",
            "9\n"
          ]
        }
      ]
    },
    {
      "cell_type": "code",
      "source": [
        "accessories =[\"bag\", \"laptop\", \"phone\", \"earbuds\", \"wallet\", \"speaker\", \"snacks\"]\n",
        "print(accessories[-1])"
      ],
      "metadata": {
        "colab": {
          "base_uri": "https://localhost:8080/"
        },
        "id": "MK30y9Fc1hAY",
        "outputId": "41837f12-21c4-429b-be5c-9599a1184968"
      },
      "execution_count": null,
      "outputs": [
        {
          "output_type": "stream",
          "name": "stdout",
          "text": [
            "snacks\n"
          ]
        }
      ]
    },
    {
      "cell_type": "code",
      "source": [
        "print(accessories[10])"
      ],
      "metadata": {
        "colab": {
          "base_uri": "https://localhost:8080/",
          "height": 146
        },
        "id": "omjLObqQ187n",
        "outputId": "a3d277af-a307-4692-bf47-a7e138237fed"
      },
      "execution_count": null,
      "outputs": [
        {
          "output_type": "error",
          "ename": "IndexError",
          "evalue": "list index out of range",
          "traceback": [
            "\u001b[0;31m---------------------------------------------------------------------------\u001b[0m",
            "\u001b[0;31mIndexError\u001b[0m                                Traceback (most recent call last)",
            "\u001b[0;32m<ipython-input-33-53e44ea286fd>\u001b[0m in \u001b[0;36m<cell line: 1>\u001b[0;34m()\u001b[0m\n\u001b[0;32m----> 1\u001b[0;31m \u001b[0mprint\u001b[0m\u001b[0;34m(\u001b[0m\u001b[0maccessories\u001b[0m\u001b[0;34m[\u001b[0m\u001b[0;36m10\u001b[0m\u001b[0;34m]\u001b[0m\u001b[0;34m)\u001b[0m\u001b[0;34m\u001b[0m\u001b[0;34m\u001b[0m\u001b[0m\n\u001b[0m",
            "\u001b[0;31mIndexError\u001b[0m: list index out of range"
          ]
        }
      ]
    },
    {
      "cell_type": "code",
      "source": [
        "print(accessories[1: 3])"
      ],
      "metadata": {
        "id": "McqR1ybf2RjK"
      },
      "execution_count": null,
      "outputs": []
    },
    {
      "cell_type": "code",
      "source": [
        "print(accessories[:5])"
      ],
      "metadata": {
        "id": "1gDu4RFI2XLY"
      },
      "execution_count": null,
      "outputs": []
    },
    {
      "cell_type": "code",
      "source": [
        "type(accessories)"
      ],
      "metadata": {
        "id": "07ivFvXp2dXW"
      },
      "execution_count": null,
      "outputs": []
    },
    {
      "cell_type": "code",
      "source": [
        "\"shoe\" in  accessories"
      ],
      "metadata": {
        "id": "4tnMr2FH2ht1"
      },
      "execution_count": null,
      "outputs": []
    },
    {
      "cell_type": "code",
      "source": [
        "accessories.append(\"shoes\")"
      ],
      "metadata": {
        "id": "CgL-kr0z2tGw"
      },
      "execution_count": null,
      "outputs": []
    },
    {
      "cell_type": "code",
      "source": [
        "accessories.insert(0, \"chocolates\")\n",
        "print(accessories)"
      ],
      "metadata": {
        "id": "ZMNjLGVM22Ue"
      },
      "execution_count": null,
      "outputs": []
    },
    {
      "cell_type": "code",
      "source": [
        "accessories.remove('bag')\n",
        "print(accessories)"
      ],
      "metadata": {
        "id": "UlDq3R6I3Gx0"
      },
      "execution_count": null,
      "outputs": []
    },
    {
      "cell_type": "code",
      "source": [
        "accessories.pop()\n",
        "print(accessories)"
      ],
      "metadata": {
        "id": "EA7w4mz_3qGM"
      },
      "execution_count": null,
      "outputs": []
    },
    {
      "cell_type": "code",
      "source": [
        "accessories[1] = \"DarkChocolate\"\n",
        "print(accessories)"
      ],
      "metadata": {
        "id": "ygYAbF3B35Qi"
      },
      "execution_count": null,
      "outputs": []
    },
    {
      "cell_type": "code",
      "source": [
        "horse_power = \"746\"\n",
        "horse_power = horse_power + \" watt\"\n",
        "print(horse_power)"
      ],
      "metadata": {
        "id": "0LZTvb3f4ITF"
      },
      "execution_count": null,
      "outputs": []
    },
    {
      "cell_type": "code",
      "source": [
        "name = (\"shivam\", \"vishwakarma\")\n",
        "print(name)\n"
      ],
      "metadata": {
        "id": "9oVMUikI4ppD"
      },
      "execution_count": null,
      "outputs": []
    },
    {
      "cell_type": "code",
      "source": [
        "contact = name + (\"7999\", )\n",
        "print(contact)"
      ],
      "metadata": {
        "id": "p_3Th7DH5N1e"
      },
      "execution_count": null,
      "outputs": []
    },
    {
      "cell_type": "code",
      "source": [
        "accessories = tuple(accessories)\n",
        "print(accessories)"
      ],
      "metadata": {
        "id": "23ilUN8V5qQO"
      },
      "execution_count": null,
      "outputs": []
    },
    {
      "cell_type": "code",
      "source": [
        "def to_paise(price):\n",
        "  rupee = int(price // 1)\n",
        "  paisa = (price % 100)\n",
        "  return rupee, paisa\n",
        "\n"
      ],
      "metadata": {
        "id": "5tTJOVTK6HPe"
      },
      "execution_count": null,
      "outputs": []
    },
    {
      "cell_type": "code",
      "source": [
        "print(to_paise(100.05))\n"
      ],
      "metadata": {
        "colab": {
          "base_uri": "https://localhost:8080/",
          "height": 146
        },
        "id": "ymPgDCnO6w0b",
        "outputId": "bce9084d-eeab-41c5-bfdf-352c632afd57"
      },
      "execution_count": null,
      "outputs": [
        {
          "output_type": "error",
          "ename": "NameError",
          "evalue": "name 'to_paise' is not defined",
          "traceback": [
            "\u001b[0;31m---------------------------------------------------------------------------\u001b[0m",
            "\u001b[0;31mNameError\u001b[0m                                 Traceback (most recent call last)",
            "\u001b[0;32m<ipython-input-34-9ed68ee4a417>\u001b[0m in \u001b[0;36m<cell line: 1>\u001b[0;34m()\u001b[0m\n\u001b[0;32m----> 1\u001b[0;31m \u001b[0mprint\u001b[0m\u001b[0;34m(\u001b[0m\u001b[0mto_paise\u001b[0m\u001b[0;34m(\u001b[0m\u001b[0;36m100.05\u001b[0m\u001b[0;34m)\u001b[0m\u001b[0;34m)\u001b[0m\u001b[0;34m\u001b[0m\u001b[0;34m\u001b[0m\u001b[0m\n\u001b[0m",
            "\u001b[0;31mNameError\u001b[0m: name 'to_paise' is not defined"
          ]
        }
      ]
    },
    {
      "cell_type": "code",
      "source": [
        "rate_list = {\n",
        "    \"ultra_sonic\" : 200,\n",
        "    \"pir\" : 150,\n",
        "    \"ardino\" : 600,\n",
        "    \"rasbarry_pi\" : 5000\n",
        "}\n",
        "print(rate_list['pir'])"
      ],
      "metadata": {
        "id": "fgjjNbYiBByR"
      },
      "execution_count": null,
      "outputs": []
    },
    {
      "cell_type": "code",
      "source": [
        "print(\"pir\" in rate_list)"
      ],
      "metadata": {
        "id": "eNdGjoElBf1o"
      },
      "execution_count": null,
      "outputs": []
    },
    {
      "cell_type": "code",
      "source": [
        "team = {\n",
        "    ('shivam', 24, 'badminton'),\n",
        "    ('ajit', 24, 'gym'),\n",
        "    ('bunty', 26, 'gym')\n",
        "}\n",
        "\n",
        "new_team = {}\n",
        "\n",
        "for name, age, hobby in team:\n",
        "  if hobby in new_team:\n",
        "    new_team[hobby].append((name, age))\n",
        "  else:\n",
        "    new_team[hobby] = [(name, age)]\n",
        "\n",
        "print(new_team)"
      ],
      "metadata": {
        "colab": {
          "base_uri": "https://localhost:8080/"
        },
        "id": "E_Vp-psQB8xH",
        "outputId": "a0acd182-0a1b-4b9f-cbc7-a8949d97ead3"
      },
      "execution_count": null,
      "outputs": [
        {
          "output_type": "stream",
          "name": "stdout",
          "text": [
            "{'badminton': [('shivam', 24)], 'gym': [('ajit', 24), ('bunty', 26)]}\n"
          ]
        }
      ]
    },
    {
      "cell_type": "code",
      "source": [
        "print(new_team['badminton'])"
      ],
      "metadata": {
        "colab": {
          "base_uri": "https://localhost:8080/"
        },
        "id": "8uNDiOOSDe4S",
        "outputId": "097febcd-473a-4179-9092-250a80e7cf24"
      },
      "execution_count": null,
      "outputs": [
        {
          "output_type": "stream",
          "name": "stdout",
          "text": [
            "[('shivam', 24)]\n"
          ]
        }
      ]
    },
    {
      "cell_type": "code",
      "source": [
        "import numpy as np\n",
        "\n",
        "arr = np.array([1, 2, 3, 4])\n",
        "type(arr)"
      ],
      "metadata": {
        "colab": {
          "base_uri": "https://localhost:8080/"
        },
        "id": "Dzzw3jxMCNpv",
        "outputId": "740b7eec-9130-4699-f401-3804d95e3916"
      },
      "execution_count": null,
      "outputs": [
        {
          "output_type": "execute_result",
          "data": {
            "text/plain": [
              "numpy.ndarray"
            ]
          },
          "metadata": {},
          "execution_count": 37
        }
      ]
    },
    {
      "cell_type": "code",
      "source": [
        "import pandas as pd\n",
        "import numpy as np\n",
        "\n",
        "data = {\n",
        "    'planet' : ['mercury', 'venus', 'earth', 'mars'],\n",
        "    'radius' : [ 2240, 1000, 3000, 5000],\n",
        "    'moons' : [  1, 1, 80, 83]\n",
        "}\n",
        "\n",
        "df = pd.DataFrame(data)\n",
        "df"
      ],
      "metadata": {
        "colab": {
          "base_uri": "https://localhost:8080/",
          "height": 175
        },
        "id": "OCxrPo740ieN",
        "outputId": "86588558-e1bd-4935-c402-a42bb3ce2148"
      },
      "execution_count": null,
      "outputs": [
        {
          "output_type": "execute_result",
          "data": {
            "text/plain": [
              "    planet  radius  moons\n",
              "0  mercury    2240      1\n",
              "1    venus    1000      1\n",
              "2    earth    3000     80\n",
              "3     mars    5000     83"
            ],
            "text/html": [
              "\n",
              "  <div id=\"df-b146d5f4-3ccd-4149-989d-84639d274f12\" class=\"colab-df-container\">\n",
              "    <div>\n",
              "<style scoped>\n",
              "    .dataframe tbody tr th:only-of-type {\n",
              "        vertical-align: middle;\n",
              "    }\n",
              "\n",
              "    .dataframe tbody tr th {\n",
              "        vertical-align: top;\n",
              "    }\n",
              "\n",
              "    .dataframe thead th {\n",
              "        text-align: right;\n",
              "    }\n",
              "</style>\n",
              "<table border=\"1\" class=\"dataframe\">\n",
              "  <thead>\n",
              "    <tr style=\"text-align: right;\">\n",
              "      <th></th>\n",
              "      <th>planet</th>\n",
              "      <th>radius</th>\n",
              "      <th>moons</th>\n",
              "    </tr>\n",
              "  </thead>\n",
              "  <tbody>\n",
              "    <tr>\n",
              "      <th>0</th>\n",
              "      <td>mercury</td>\n",
              "      <td>2240</td>\n",
              "      <td>1</td>\n",
              "    </tr>\n",
              "    <tr>\n",
              "      <th>1</th>\n",
              "      <td>venus</td>\n",
              "      <td>1000</td>\n",
              "      <td>1</td>\n",
              "    </tr>\n",
              "    <tr>\n",
              "      <th>2</th>\n",
              "      <td>earth</td>\n",
              "      <td>3000</td>\n",
              "      <td>80</td>\n",
              "    </tr>\n",
              "    <tr>\n",
              "      <th>3</th>\n",
              "      <td>mars</td>\n",
              "      <td>5000</td>\n",
              "      <td>83</td>\n",
              "    </tr>\n",
              "  </tbody>\n",
              "</table>\n",
              "</div>\n",
              "    <div class=\"colab-df-buttons\">\n",
              "\n",
              "  <div class=\"colab-df-container\">\n",
              "    <button class=\"colab-df-convert\" onclick=\"convertToInteractive('df-b146d5f4-3ccd-4149-989d-84639d274f12')\"\n",
              "            title=\"Convert this dataframe to an interactive table.\"\n",
              "            style=\"display:none;\">\n",
              "\n",
              "  <svg xmlns=\"http://www.w3.org/2000/svg\" height=\"24px\" viewBox=\"0 -960 960 960\">\n",
              "    <path d=\"M120-120v-720h720v720H120Zm60-500h600v-160H180v160Zm220 220h160v-160H400v160Zm0 220h160v-160H400v160ZM180-400h160v-160H180v160Zm440 0h160v-160H620v160ZM180-180h160v-160H180v160Zm440 0h160v-160H620v160Z\"/>\n",
              "  </svg>\n",
              "    </button>\n",
              "\n",
              "  <style>\n",
              "    .colab-df-container {\n",
              "      display:flex;\n",
              "      gap: 12px;\n",
              "    }\n",
              "\n",
              "    .colab-df-convert {\n",
              "      background-color: #E8F0FE;\n",
              "      border: none;\n",
              "      border-radius: 50%;\n",
              "      cursor: pointer;\n",
              "      display: none;\n",
              "      fill: #1967D2;\n",
              "      height: 32px;\n",
              "      padding: 0 0 0 0;\n",
              "      width: 32px;\n",
              "    }\n",
              "\n",
              "    .colab-df-convert:hover {\n",
              "      background-color: #E2EBFA;\n",
              "      box-shadow: 0px 1px 2px rgba(60, 64, 67, 0.3), 0px 1px 3px 1px rgba(60, 64, 67, 0.15);\n",
              "      fill: #174EA6;\n",
              "    }\n",
              "\n",
              "    .colab-df-buttons div {\n",
              "      margin-bottom: 4px;\n",
              "    }\n",
              "\n",
              "    [theme=dark] .colab-df-convert {\n",
              "      background-color: #3B4455;\n",
              "      fill: #D2E3FC;\n",
              "    }\n",
              "\n",
              "    [theme=dark] .colab-df-convert:hover {\n",
              "      background-color: #434B5C;\n",
              "      box-shadow: 0px 1px 3px 1px rgba(0, 0, 0, 0.15);\n",
              "      filter: drop-shadow(0px 1px 2px rgba(0, 0, 0, 0.3));\n",
              "      fill: #FFFFFF;\n",
              "    }\n",
              "  </style>\n",
              "\n",
              "    <script>\n",
              "      const buttonEl =\n",
              "        document.querySelector('#df-b146d5f4-3ccd-4149-989d-84639d274f12 button.colab-df-convert');\n",
              "      buttonEl.style.display =\n",
              "        google.colab.kernel.accessAllowed ? 'block' : 'none';\n",
              "\n",
              "      async function convertToInteractive(key) {\n",
              "        const element = document.querySelector('#df-b146d5f4-3ccd-4149-989d-84639d274f12');\n",
              "        const dataTable =\n",
              "          await google.colab.kernel.invokeFunction('convertToInteractive',\n",
              "                                                    [key], {});\n",
              "        if (!dataTable) return;\n",
              "\n",
              "        const docLinkHtml = 'Like what you see? Visit the ' +\n",
              "          '<a target=\"_blank\" href=https://colab.research.google.com/notebooks/data_table.ipynb>data table notebook</a>'\n",
              "          + ' to learn more about interactive tables.';\n",
              "        element.innerHTML = '';\n",
              "        dataTable['output_type'] = 'display_data';\n",
              "        await google.colab.output.renderOutput(dataTable, element);\n",
              "        const docLink = document.createElement('div');\n",
              "        docLink.innerHTML = docLinkHtml;\n",
              "        element.appendChild(docLink);\n",
              "      }\n",
              "    </script>\n",
              "  </div>\n",
              "\n",
              "\n",
              "<div id=\"df-89fc323d-8f0a-4b56-a2b4-f3412ef4fe34\">\n",
              "  <button class=\"colab-df-quickchart\" onclick=\"quickchart('df-89fc323d-8f0a-4b56-a2b4-f3412ef4fe34')\"\n",
              "            title=\"Suggest charts\"\n",
              "            style=\"display:none;\">\n",
              "\n",
              "<svg xmlns=\"http://www.w3.org/2000/svg\" height=\"24px\"viewBox=\"0 0 24 24\"\n",
              "     width=\"24px\">\n",
              "    <g>\n",
              "        <path d=\"M19 3H5c-1.1 0-2 .9-2 2v14c0 1.1.9 2 2 2h14c1.1 0 2-.9 2-2V5c0-1.1-.9-2-2-2zM9 17H7v-7h2v7zm4 0h-2V7h2v10zm4 0h-2v-4h2v4z\"/>\n",
              "    </g>\n",
              "</svg>\n",
              "  </button>\n",
              "\n",
              "<style>\n",
              "  .colab-df-quickchart {\n",
              "      --bg-color: #E8F0FE;\n",
              "      --fill-color: #1967D2;\n",
              "      --hover-bg-color: #E2EBFA;\n",
              "      --hover-fill-color: #174EA6;\n",
              "      --disabled-fill-color: #AAA;\n",
              "      --disabled-bg-color: #DDD;\n",
              "  }\n",
              "\n",
              "  [theme=dark] .colab-df-quickchart {\n",
              "      --bg-color: #3B4455;\n",
              "      --fill-color: #D2E3FC;\n",
              "      --hover-bg-color: #434B5C;\n",
              "      --hover-fill-color: #FFFFFF;\n",
              "      --disabled-bg-color: #3B4455;\n",
              "      --disabled-fill-color: #666;\n",
              "  }\n",
              "\n",
              "  .colab-df-quickchart {\n",
              "    background-color: var(--bg-color);\n",
              "    border: none;\n",
              "    border-radius: 50%;\n",
              "    cursor: pointer;\n",
              "    display: none;\n",
              "    fill: var(--fill-color);\n",
              "    height: 32px;\n",
              "    padding: 0;\n",
              "    width: 32px;\n",
              "  }\n",
              "\n",
              "  .colab-df-quickchart:hover {\n",
              "    background-color: var(--hover-bg-color);\n",
              "    box-shadow: 0 1px 2px rgba(60, 64, 67, 0.3), 0 1px 3px 1px rgba(60, 64, 67, 0.15);\n",
              "    fill: var(--button-hover-fill-color);\n",
              "  }\n",
              "\n",
              "  .colab-df-quickchart-complete:disabled,\n",
              "  .colab-df-quickchart-complete:disabled:hover {\n",
              "    background-color: var(--disabled-bg-color);\n",
              "    fill: var(--disabled-fill-color);\n",
              "    box-shadow: none;\n",
              "  }\n",
              "\n",
              "  .colab-df-spinner {\n",
              "    border: 2px solid var(--fill-color);\n",
              "    border-color: transparent;\n",
              "    border-bottom-color: var(--fill-color);\n",
              "    animation:\n",
              "      spin 1s steps(1) infinite;\n",
              "  }\n",
              "\n",
              "  @keyframes spin {\n",
              "    0% {\n",
              "      border-color: transparent;\n",
              "      border-bottom-color: var(--fill-color);\n",
              "      border-left-color: var(--fill-color);\n",
              "    }\n",
              "    20% {\n",
              "      border-color: transparent;\n",
              "      border-left-color: var(--fill-color);\n",
              "      border-top-color: var(--fill-color);\n",
              "    }\n",
              "    30% {\n",
              "      border-color: transparent;\n",
              "      border-left-color: var(--fill-color);\n",
              "      border-top-color: var(--fill-color);\n",
              "      border-right-color: var(--fill-color);\n",
              "    }\n",
              "    40% {\n",
              "      border-color: transparent;\n",
              "      border-right-color: var(--fill-color);\n",
              "      border-top-color: var(--fill-color);\n",
              "    }\n",
              "    60% {\n",
              "      border-color: transparent;\n",
              "      border-right-color: var(--fill-color);\n",
              "    }\n",
              "    80% {\n",
              "      border-color: transparent;\n",
              "      border-right-color: var(--fill-color);\n",
              "      border-bottom-color: var(--fill-color);\n",
              "    }\n",
              "    90% {\n",
              "      border-color: transparent;\n",
              "      border-bottom-color: var(--fill-color);\n",
              "    }\n",
              "  }\n",
              "</style>\n",
              "\n",
              "  <script>\n",
              "    async function quickchart(key) {\n",
              "      const quickchartButtonEl =\n",
              "        document.querySelector('#' + key + ' button');\n",
              "      quickchartButtonEl.disabled = true;  // To prevent multiple clicks.\n",
              "      quickchartButtonEl.classList.add('colab-df-spinner');\n",
              "      try {\n",
              "        const charts = await google.colab.kernel.invokeFunction(\n",
              "            'suggestCharts', [key], {});\n",
              "      } catch (error) {\n",
              "        console.error('Error during call to suggestCharts:', error);\n",
              "      }\n",
              "      quickchartButtonEl.classList.remove('colab-df-spinner');\n",
              "      quickchartButtonEl.classList.add('colab-df-quickchart-complete');\n",
              "    }\n",
              "    (() => {\n",
              "      let quickchartButtonEl =\n",
              "        document.querySelector('#df-89fc323d-8f0a-4b56-a2b4-f3412ef4fe34 button');\n",
              "      quickchartButtonEl.style.display =\n",
              "        google.colab.kernel.accessAllowed ? 'block' : 'none';\n",
              "    })();\n",
              "  </script>\n",
              "</div>\n",
              "\n",
              "  <div id=\"id_bddb5dac-2bc1-4006-b884-bd9a86485b10\">\n",
              "    <style>\n",
              "      .colab-df-generate {\n",
              "        background-color: #E8F0FE;\n",
              "        border: none;\n",
              "        border-radius: 50%;\n",
              "        cursor: pointer;\n",
              "        display: none;\n",
              "        fill: #1967D2;\n",
              "        height: 32px;\n",
              "        padding: 0 0 0 0;\n",
              "        width: 32px;\n",
              "      }\n",
              "\n",
              "      .colab-df-generate:hover {\n",
              "        background-color: #E2EBFA;\n",
              "        box-shadow: 0px 1px 2px rgba(60, 64, 67, 0.3), 0px 1px 3px 1px rgba(60, 64, 67, 0.15);\n",
              "        fill: #174EA6;\n",
              "      }\n",
              "\n",
              "      [theme=dark] .colab-df-generate {\n",
              "        background-color: #3B4455;\n",
              "        fill: #D2E3FC;\n",
              "      }\n",
              "\n",
              "      [theme=dark] .colab-df-generate:hover {\n",
              "        background-color: #434B5C;\n",
              "        box-shadow: 0px 1px 3px 1px rgba(0, 0, 0, 0.15);\n",
              "        filter: drop-shadow(0px 1px 2px rgba(0, 0, 0, 0.3));\n",
              "        fill: #FFFFFF;\n",
              "      }\n",
              "    </style>\n",
              "    <button class=\"colab-df-generate\" onclick=\"generateWithVariable('df')\"\n",
              "            title=\"Generate code using this dataframe.\"\n",
              "            style=\"display:none;\">\n",
              "\n",
              "  <svg xmlns=\"http://www.w3.org/2000/svg\" height=\"24px\"viewBox=\"0 0 24 24\"\n",
              "       width=\"24px\">\n",
              "    <path d=\"M7,19H8.4L18.45,9,17,7.55,7,17.6ZM5,21V16.75L18.45,3.32a2,2,0,0,1,2.83,0l1.4,1.43a1.91,1.91,0,0,1,.58,1.4,1.91,1.91,0,0,1-.58,1.4L9.25,21ZM18.45,9,17,7.55Zm-12,3A5.31,5.31,0,0,0,4.9,8.1,5.31,5.31,0,0,0,1,6.5,5.31,5.31,0,0,0,4.9,4.9,5.31,5.31,0,0,0,6.5,1,5.31,5.31,0,0,0,8.1,4.9,5.31,5.31,0,0,0,12,6.5,5.46,5.46,0,0,0,6.5,12Z\"/>\n",
              "  </svg>\n",
              "    </button>\n",
              "    <script>\n",
              "      (() => {\n",
              "      const buttonEl =\n",
              "        document.querySelector('#id_bddb5dac-2bc1-4006-b884-bd9a86485b10 button.colab-df-generate');\n",
              "      buttonEl.style.display =\n",
              "        google.colab.kernel.accessAllowed ? 'block' : 'none';\n",
              "\n",
              "      buttonEl.onclick = () => {\n",
              "        google.colab.notebook.generateWithVariable('df');\n",
              "      }\n",
              "      })();\n",
              "    </script>\n",
              "  </div>\n",
              "\n",
              "    </div>\n",
              "  </div>\n"
            ],
            "application/vnd.google.colaboratory.intrinsic+json": {
              "type": "dataframe",
              "variable_name": "df",
              "summary": "{\n  \"name\": \"df\",\n  \"rows\": 4,\n  \"fields\": [\n    {\n      \"column\": \"planet\",\n      \"properties\": {\n        \"dtype\": \"string\",\n        \"samples\": [\n          \"venus\",\n          \"mars\",\n          \"mercury\"\n        ],\n        \"num_unique_values\": 4,\n        \"semantic_type\": \"\",\n        \"description\": \"\"\n      }\n    },\n    {\n      \"column\": \"radius\",\n      \"properties\": {\n        \"dtype\": \"number\",\n        \"std\": 1676,\n        \"min\": 1000,\n        \"max\": 5000,\n        \"samples\": [\n          1000,\n          5000,\n          2240\n        ],\n        \"num_unique_values\": 4,\n        \"semantic_type\": \"\",\n        \"description\": \"\"\n      }\n    },\n    {\n      \"column\": \"moons\",\n      \"properties\": {\n        \"dtype\": \"number\",\n        \"std\": 46,\n        \"min\": 1,\n        \"max\": 83,\n        \"samples\": [\n          1,\n          80,\n          83\n        ],\n        \"num_unique_values\": 3,\n        \"semantic_type\": \"\",\n        \"description\": \"\"\n      }\n    }\n  ]\n}"
            }
          },
          "metadata": {},
          "execution_count": 38
        }
      ]
    },
    {
      "cell_type": "code",
      "source": [
        "mask = df['moons'] < 20\n",
        "mask"
      ],
      "metadata": {
        "colab": {
          "base_uri": "https://localhost:8080/"
        },
        "id": "IpCLJLgO1SGL",
        "outputId": "371674cc-1ab7-4262-e46e-b01d26dd4cd6"
      },
      "execution_count": null,
      "outputs": [
        {
          "output_type": "execute_result",
          "data": {
            "text/plain": [
              "0     True\n",
              "1     True\n",
              "2    False\n",
              "3    False\n",
              "Name: moons, dtype: bool"
            ]
          },
          "metadata": {},
          "execution_count": 39
        }
      ]
    },
    {
      "cell_type": "code",
      "source": [
        "print(df[df['moons'] < 20])"
      ],
      "metadata": {
        "id": "8ABvCAgm1oJm",
        "outputId": "65c1c462-1998-45f6-8f5f-32afd1bb9931",
        "colab": {
          "base_uri": "https://localhost:8080/"
        }
      },
      "execution_count": null,
      "outputs": [
        {
          "output_type": "stream",
          "name": "stdout",
          "text": [
            "    planet  radius  moons\n",
            "0  mercury    2240      1\n",
            "1    venus    1000      1\n"
          ]
        }
      ]
    },
    {
      "cell_type": "code",
      "source": [
        "Shivam = {\n",
        "    \"Specilization\" : \"Automation and Robotics\",\n",
        "    \"Topic\" : \"Manipulator\",\n",
        "    \"CGPA\" : 8.41\n",
        "}\n",
        "Shivam.keys()\n",
        "Shivam.values()\n"
      ],
      "metadata": {
        "colab": {
          "base_uri": "https://localhost:8080/"
        },
        "id": "OR3uUcHOTlRC",
        "outputId": "85bac6ec-5ce1-4267-c2c0-5a2a3ec75174"
      },
      "execution_count": 3,
      "outputs": [
        {
          "output_type": "execute_result",
          "data": {
            "text/plain": [
              "dict_values(['Automation and Robotics', 'Manipulator', 8.41])"
            ]
          },
          "metadata": {},
          "execution_count": 3
        }
      ]
    },
    {
      "cell_type": "code",
      "source": [
        "shivam_set = {1, 2, 3, 2}\n",
        "shivam_set\n",
        "shivam_set.add(5)\n",
        "shivam_set.clear()\n",
        "shivam_set"
      ],
      "metadata": {
        "colab": {
          "base_uri": "https://localhost:8080/"
        },
        "id": "DW_dMncLUVsL",
        "outputId": "1764c0d1-2e3f-4874-8e38-1e5ce5da4223"
      },
      "execution_count": 8,
      "outputs": [
        {
          "output_type": "execute_result",
          "data": {
            "text/plain": [
              "set()"
            ]
          },
          "metadata": {},
          "execution_count": 8
        }
      ]
    },
    {
      "cell_type": "code",
      "source": [
        "store = {\n",
        "    \"table\" : \"a piece of furniture\",\n",
        "    \"cat\" : \"a small animal\"\n",
        "}\n",
        "store"
      ],
      "metadata": {
        "colab": {
          "base_uri": "https://localhost:8080/"
        },
        "id": "xSmitphSTpUZ",
        "outputId": "166cbe25-434a-4fc9-f7a2-5c831a7e9ee1"
      },
      "execution_count": 9,
      "outputs": [
        {
          "output_type": "execute_result",
          "data": {
            "text/plain": [
              "{'table': 'a piece of furniture', 'cat': 'a small animal'}"
            ]
          },
          "metadata": {},
          "execution_count": 9
        }
      ]
    },
    {
      "cell_type": "code",
      "source": [
        "programming_language = { \"c++\", \"c\", \"kotlin\", \"swift\", \"go\"}"
      ],
      "metadata": {
        "colab": {
          "base_uri": "https://localhost:8080/"
        },
        "id": "2M_BSes3VcIf",
        "outputId": "6b8c03d7-278e-460d-a48f-8088be884ce9"
      },
      "execution_count": 11,
      "outputs": [
        {
          "output_type": "execute_result",
          "data": {
            "text/plain": [
              "{'c', 'c++', 'go', 'kotlin', 'swift'}"
            ]
          },
          "metadata": {},
          "execution_count": 11
        }
      ]
    },
    {
      "cell_type": "code",
      "source": [
        "course = {\"subject_1\" : \"\" , \"subject_2\" : \"\", \"subject_3\" : \"\"}\n",
        "for i in course:\n",
        "  temp = input(\"Enter your course name : \")\n",
        "  course[i] = temp\n",
        "course"
      ],
      "metadata": {
        "colab": {
          "base_uri": "https://localhost:8080/"
        },
        "id": "U9eSBRaKWCi-",
        "outputId": "48a8d61a-8d36-4e9a-d01b-e825387e676a"
      },
      "execution_count": 12,
      "outputs": [
        {
          "name": "stdout",
          "output_type": "stream",
          "text": [
            "Enter your course name : Dynamics\n",
            "Enter your course name : Manufacturing\n",
            "Enter your course name : CV\n"
          ]
        },
        {
          "output_type": "execute_result",
          "data": {
            "text/plain": [
              "{'subject_1': 'Dynamics', 'subject_2': 'Manufacturing', 'subject_3': 'CV'}"
            ]
          },
          "metadata": {},
          "execution_count": 12
        }
      ]
    },
    {
      "cell_type": "code",
      "source": [
        "number_1 = 9\n",
        "number_2 = \"9.0\"\n",
        "numbers = {number_1, number_2}\n",
        "numbers"
      ],
      "metadata": {
        "colab": {
          "base_uri": "https://localhost:8080/"
        },
        "id": "jnagiKBpXEEu",
        "outputId": "98319d8e-af07-4a13-fca9-b22264dd1c07"
      },
      "execution_count": 21,
      "outputs": [
        {
          "output_type": "execute_result",
          "data": {
            "text/plain": [
              "{9, '9.0'}"
            ]
          },
          "metadata": {},
          "execution_count": 21
        }
      ]
    },
    {
      "cell_type": "code",
      "source": [
        "number = int(input(\"Enter an number : \"))\n",
        "for i in range (1, 11):\n",
        "  print(i * number)\n",
        "  i += 1\n",
        ""
      ],
      "metadata": {
        "colab": {
          "base_uri": "https://localhost:8080/"
        },
        "id": "e7TNLYCmYYUE",
        "outputId": "684c0836-27c0-4c11-cdbe-f1e7920c31d6"
      },
      "execution_count": 31,
      "outputs": [
        {
          "output_type": "stream",
          "name": "stdout",
          "text": [
            "Enter an number : 55\n",
            "55\n",
            "110\n",
            "165\n",
            "220\n",
            "275\n",
            "330\n",
            "385\n",
            "440\n",
            "495\n",
            "550\n"
          ]
        }
      ]
    },
    {
      "cell_type": "code",
      "source": [
        "l1 = [1, 4, 9, 16, 25, 36, 49, 64, 81, 100]\n",
        "for i in  l1:\n",
        "  print(i)"
      ],
      "metadata": {
        "colab": {
          "base_uri": "https://localhost:8080/"
        },
        "id": "lErvOW7eaLCm",
        "outputId": "bc1f5130-586d-4950-f2c6-e5d61982e28f"
      },
      "execution_count": 32,
      "outputs": [
        {
          "output_type": "stream",
          "name": "stdout",
          "text": [
            "1\n",
            "4\n",
            "9\n",
            "16\n",
            "25\n",
            "36\n",
            "49\n",
            "64\n",
            "81\n",
            "100\n"
          ]
        }
      ]
    },
    {
      "cell_type": "code",
      "source": [
        "number = int(input(\"Enter an number to find : \"))\n",
        "for i in l1:\n",
        "  if(i == number):\n",
        "    print(\"Number is avalaible at an index of \" + (str)(l1.index(i)))\n",
        ""
      ],
      "metadata": {
        "colab": {
          "base_uri": "https://localhost:8080/"
        },
        "id": "tIqc62dCaXO8",
        "outputId": "df35f1e9-680f-446a-bcd3-de273f616f9e"
      },
      "execution_count": 36,
      "outputs": [
        {
          "output_type": "stream",
          "name": "stdout",
          "text": [
            "Enter an number to find : 9\n",
            "Number is avalaible at an index of 2\n"
          ]
        }
      ]
    },
    {
      "cell_type": "code",
      "source": [
        "def get_size(i):\n",
        "  return len(i)\n",
        "\n",
        "def get_variables(i):\n",
        "  print(i)\n",
        "\n",
        "def get_factorial(number):\n",
        "  temp = 1\n",
        "  for i in range(1, number):\n",
        "    temp *= i\n",
        "  return temp\n",
        "\n",
        "print(get_factorial(10))\n",
        "#get_variables(l1)"
      ],
      "metadata": {
        "colab": {
          "base_uri": "https://localhost:8080/"
        },
        "id": "1CRJ0B4Tb5O9",
        "outputId": "a7657812-ed1d-48aa-9d6b-d61b5c088284"
      },
      "execution_count": 44,
      "outputs": [
        {
          "output_type": "stream",
          "name": "stdout",
          "text": [
            "362880\n"
          ]
        }
      ]
    },
    {
      "cell_type": "code",
      "source": [
        "l1 = [1, 4, 9, 16, 25, 36, 49, 64, 81, 100]\n",
        "\n",
        "def sum_till(number):\n",
        "  if(number <= 1):\n",
        "    return number;\n",
        "  return number + sum_till(number - 1);\n",
        "\n",
        "def print_list(l1, number):\n",
        "  if(number == -1):\n",
        "\n",
        "  print(l1[number])\n",
        "  return number + print_list(l1, number - 1)\n",
        "\n",
        "print_list(l1, 9)"
      ],
      "metadata": {
        "colab": {
          "base_uri": "https://localhost:8080/",
          "height": 110
        },
        "id": "7dwaKNSreFlF",
        "outputId": "cce8b90e-3489-4efa-b8d5-d9b0633e254f"
      },
      "execution_count": 10,
      "outputs": [
        {
          "output_type": "error",
          "ename": "SyntaxError",
          "evalue": "'break' outside loop (<ipython-input-10-5579335f1e9f>, line 10)",
          "traceback": [
            "\u001b[0;36m  File \u001b[0;32m\"<ipython-input-10-5579335f1e9f>\"\u001b[0;36m, line \u001b[0;32m10\u001b[0m\n\u001b[0;31m    break\u001b[0m\n\u001b[0m    ^\u001b[0m\n\u001b[0;31mSyntaxError\u001b[0m\u001b[0;31m:\u001b[0m 'break' outside loop\n"
          ]
        }
      ]
    },
    {
      "cell_type": "code",
      "source": [
        "class students:\n",
        "\n",
        " # subject1, subject2, subject3, mark1, mark2, mark3;\n",
        "\n",
        "  def __init__(self, s1, s2, s3, m1, m2, m3):\n",
        "    self.subject1 = s1\n",
        "    self.subject2 = s2\n",
        "    self.subject3 = s3\n",
        "    self.mark1 = m1\n",
        "    self.mark2 = m2\n",
        "    self.mark3 = m3\n",
        "\n",
        "  @staticmethod\n",
        "  def get_average(self):\n",
        "    return ((self.mark1 + self.mark2 + self.mark3) / 3)\n",
        "\n",
        "shivam = students(\"DR\", \"AM\", \"CS\", 90, 95, 94)\n",
        "print(shivam.get_average())"
      ],
      "metadata": {
        "colab": {
          "base_uri": "https://localhost:8080/",
          "height": 183
        },
        "id": "O9CYa63TlAoj",
        "outputId": "7eb92f65-1624-4561-d429-8719288804e6"
      },
      "execution_count": 16,
      "outputs": [
        {
          "output_type": "error",
          "ename": "TypeError",
          "evalue": "students.get_average() missing 1 required positional argument: 'self'",
          "traceback": [
            "\u001b[0;31m---------------------------------------------------------------------------\u001b[0m",
            "\u001b[0;31mTypeError\u001b[0m                                 Traceback (most recent call last)",
            "\u001b[0;32m<ipython-input-16-0d3cbfe19c24>\u001b[0m in \u001b[0;36m<cell line: 18>\u001b[0;34m()\u001b[0m\n\u001b[1;32m     16\u001b[0m \u001b[0;34m\u001b[0m\u001b[0m\n\u001b[1;32m     17\u001b[0m \u001b[0mshivam\u001b[0m \u001b[0;34m=\u001b[0m \u001b[0mstudents\u001b[0m\u001b[0;34m(\u001b[0m\u001b[0;34m\"DR\"\u001b[0m\u001b[0;34m,\u001b[0m \u001b[0;34m\"AM\"\u001b[0m\u001b[0;34m,\u001b[0m \u001b[0;34m\"CS\"\u001b[0m\u001b[0;34m,\u001b[0m \u001b[0;36m90\u001b[0m\u001b[0;34m,\u001b[0m \u001b[0;36m95\u001b[0m\u001b[0;34m,\u001b[0m \u001b[0;36m94\u001b[0m\u001b[0;34m)\u001b[0m\u001b[0;34m\u001b[0m\u001b[0;34m\u001b[0m\u001b[0m\n\u001b[0;32m---> 18\u001b[0;31m \u001b[0mprint\u001b[0m\u001b[0;34m(\u001b[0m\u001b[0mshivam\u001b[0m\u001b[0;34m.\u001b[0m\u001b[0mget_average\u001b[0m\u001b[0;34m(\u001b[0m\u001b[0;34m)\u001b[0m\u001b[0;34m)\u001b[0m\u001b[0;34m\u001b[0m\u001b[0;34m\u001b[0m\u001b[0m\n\u001b[0m",
            "\u001b[0;31mTypeError\u001b[0m: students.get_average() missing 1 required positional argument: 'self'"
          ]
        }
      ]
    }
  ]
}