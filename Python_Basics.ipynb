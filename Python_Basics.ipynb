{
  "nbformat": 4,
  "nbformat_minor": 0,
  "metadata": {
    "colab": {
      "provenance": [],
      "authorship_tag": "ABX9TyO/vL8jfJ6Ugg7gR2j3NcX+",
      "include_colab_link": true
    },
    "kernelspec": {
      "name": "python3",
      "display_name": "Python 3"
    },
    "language_info": {
      "name": "python"
    }
  },
  "cells": [
    {
      "cell_type": "markdown",
      "metadata": {
        "id": "view-in-github",
        "colab_type": "text"
      },
      "source": [
        "<a href=\"https://colab.research.google.com/github/shivam361v/DSA/blob/main/Python_Basics.ipynb\" target=\"_parent\"><img src=\"https://colab.research.google.com/assets/colab-badge.svg\" alt=\"Open In Colab\"/></a>"
      ]
    },
    {
      "cell_type": "code",
      "execution_count": null,
      "metadata": {
        "colab": {
          "base_uri": "https://localhost:8080/"
        },
        "id": "rRuduXTqCiIe",
        "outputId": "8889e3eb-d89b-46d5-ab21-9e720af1dab1"
      },
      "outputs": [
        {
          "output_type": "stream",
          "name": "stdout",
          "text": [
            "Enter your name ?Shivam\n",
            "Hello Shivam\n"
          ]
        }
      ],
      "source": [
        "name = input(\"Enter your name ?\");\n",
        "print(\"Hello\", name);"
      ]
    },
    {
      "cell_type": "code",
      "source": [],
      "metadata": {
        "id": "Vkakp8P_YPZd"
      },
      "execution_count": null,
      "outputs": []
    },
    {
      "cell_type": "code",
      "source": [
        "age = 24\n",
        "print(type(age))\n",
        "print(type(name))"
      ],
      "metadata": {
        "colab": {
          "base_uri": "https://localhost:8080/"
        },
        "id": "OaDLpLuGHnnN",
        "outputId": "0d531a0e-bf77-4f85-9f5c-1c62da0b2136"
      },
      "execution_count": null,
      "outputs": [
        {
          "output_type": "stream",
          "name": "stdout",
          "text": [
            "<class 'int'>\n",
            "<class 'str'>\n"
          ]
        }
      ]
    },
    {
      "cell_type": "code",
      "source": [
        "ShoppingList = input(\"Enter item to shop from market\");\n",
        "qty = [1, 2, 3, 4, 5];\n",
        "name = (\"Shivam\", \"Vishwakarma\");\n",
        "statement = \"{} will go to market to buy {}\";\n",
        "for x in qty:\n",
        "  print(x);\n",
        "if \"Shivam\" in name:\n",
        "  print(\"Yes, lets go to market\");\n",
        "print( name[1]);\n",
        "print(name[1].upper());\n",
        "print(name[0].split('v'));\n",
        "print(statement.format(name[0], name[1]));\n"
      ],
      "metadata": {
        "colab": {
          "base_uri": "https://localhost:8080/"
        },
        "id": "MtYXxQ6q7rzw",
        "outputId": "dd683f3b-d38b-4387-cd39-4259fc2c4d30"
      },
      "execution_count": null,
      "outputs": [
        {
          "output_type": "stream",
          "name": "stdout",
          "text": [
            "Enter item to shop from marketapple banana\n",
            "1\n",
            "2\n",
            "3\n",
            "4\n",
            "5\n",
            "Yes, lets go to market\n",
            "Vishwakarma\n",
            "VISHWAKARMA\n",
            "['Shi', 'am']\n",
            "Shivam will go to market to buy Vishwakarma\n"
          ]
        }
      ]
    },
    {
      "cell_type": "code",
      "source": [
        "sum = 10 + 20;\n",
        "powers = 10 ** 2;\n",
        "name1 = \"shivam\";\n",
        "name2 = \"Shivam\";\n",
        "if sum <= powers :\n",
        "  print('true');\n",
        "if 's' in name1:\n",
        "  print(\"Name contains letter 's' \");\n",
        "if name1 is name2:\n",
        "\n",
        "  print(\"Both names are the same\");"
      ],
      "metadata": {
        "colab": {
          "base_uri": "https://localhost:8080/"
        },
        "id": "SE17B1KrUJLf",
        "outputId": "0b652924-fac1-4fe3-a56a-e2818d36c3ca"
      },
      "execution_count": null,
      "outputs": [
        {
          "output_type": "stream",
          "name": "stdout",
          "text": [
            "true\n",
            "Name contains letter 's' \n"
          ]
        }
      ]
    },
    {
      "cell_type": "code",
      "source": [
        "#List in python\n",
        "l1 = [1, 2, 3, 4, 5];\n",
        "for i in l1:\n",
        "  print(i);\n",
        "l1.append(6);\n",
        "for i in l1:\n",
        "  print(i);\n",
        "l1.clear()\n",
        "for i in l1:\n",
        "  print(i);\n"
      ],
      "metadata": {
        "colab": {
          "base_uri": "https://localhost:8080/"
        },
        "id": "9drH9te2uDRK",
        "outputId": "31c0b478-3750-4a8a-f1ed-e15363f60077"
      },
      "execution_count": null,
      "outputs": [
        {
          "output_type": "stream",
          "name": "stdout",
          "text": [
            "1\n",
            "2\n",
            "3\n",
            "4\n",
            "5\n",
            "1\n",
            "2\n",
            "3\n",
            "4\n",
            "5\n",
            "6\n"
          ]
        }
      ]
    },
    {
      "cell_type": "code",
      "source": [
        "#Tuple in python\n",
        "l2 = (1, 2, 3, 4);\n",
        "for i in l2:\n",
        "  print(i);\n",
        "\n",
        "l2 = list(l2);\n",
        "l2[3] = 5;\n",
        "l2 = tuple(l2);\n",
        "\n",
        "for i in l2:\n",
        "  print(i);\n",
        "del l2;\n",
        "\n",
        "for i in l2:\n",
        "  print(i);\n"
      ],
      "metadata": {
        "colab": {
          "base_uri": "https://localhost:8080/",
          "height": 366
        },
        "id": "B1JhsQ5tu7fr",
        "outputId": "f61e2195-2f23-4bad-c96c-8c112827954f"
      },
      "execution_count": null,
      "outputs": [
        {
          "output_type": "stream",
          "name": "stdout",
          "text": [
            "1\n",
            "2\n",
            "3\n",
            "4\n",
            "1\n",
            "2\n",
            "3\n",
            "5\n"
          ]
        },
        {
          "output_type": "error",
          "ename": "NameError",
          "evalue": "ignored",
          "traceback": [
            "\u001b[0;31m---------------------------------------------------------------------------\u001b[0m",
            "\u001b[0;31mNameError\u001b[0m                                 Traceback (most recent call last)",
            "\u001b[0;32m<ipython-input-7-81d5df141b2b>\u001b[0m in \u001b[0;36m<cell line: 14>\u001b[0;34m()\u001b[0m\n\u001b[1;32m     12\u001b[0m \u001b[0;32mdel\u001b[0m \u001b[0ml2\u001b[0m\u001b[0;34m;\u001b[0m\u001b[0;34m\u001b[0m\u001b[0;34m\u001b[0m\u001b[0m\n\u001b[1;32m     13\u001b[0m \u001b[0;34m\u001b[0m\u001b[0m\n\u001b[0;32m---> 14\u001b[0;31m \u001b[0;32mfor\u001b[0m \u001b[0mi\u001b[0m \u001b[0;32min\u001b[0m \u001b[0ml2\u001b[0m\u001b[0;34m:\u001b[0m\u001b[0;34m\u001b[0m\u001b[0;34m\u001b[0m\u001b[0m\n\u001b[0m\u001b[1;32m     15\u001b[0m   \u001b[0mprint\u001b[0m\u001b[0;34m(\u001b[0m\u001b[0mi\u001b[0m\u001b[0;34m)\u001b[0m\u001b[0;34m;\u001b[0m\u001b[0;34m\u001b[0m\u001b[0;34m\u001b[0m\u001b[0m\n",
            "\u001b[0;31mNameError\u001b[0m: name 'l2' is not defined"
          ]
        }
      ]
    },
    {
      "cell_type": "code",
      "source": [
        "#Set in python\n",
        "\n",
        "l3 = {1, 2, 3};\n",
        "for i in l3:\n",
        "  print(i);\n",
        "\n",
        "l3.add(3);\n",
        "\n",
        "for i in l3:\n",
        "  print(i);"
      ],
      "metadata": {
        "colab": {
          "base_uri": "https://localhost:8080/"
        },
        "id": "ZVNTxRDEwYGs",
        "outputId": "fd22c796-4c5f-413d-c850-24e7e1aff528"
      },
      "execution_count": null,
      "outputs": [
        {
          "output_type": "stream",
          "name": "stdout",
          "text": [
            "1\n",
            "2\n",
            "3\n",
            "1\n",
            "2\n",
            "3\n"
          ]
        }
      ]
    },
    {
      "cell_type": "code",
      "source": [
        "# Conditional and loops\n",
        "\n",
        "numbers = [1, 2, 3 , 4, 5 ];\n",
        "\n",
        "for i in numbers :\n",
        "  if i % 2 == 0:\n",
        "    print(\"Even\");\n",
        "  else:\n",
        "    print(\"Odd\");\n",
        "\n",
        "  if(i == 3):\n",
        "    continue;\n",
        "  if(i == 5):\n",
        "    break;\n",
        "  print(i);\n"
      ],
      "metadata": {
        "colab": {
          "base_uri": "https://localhost:8080/"
        },
        "id": "e9999m8PKz3p",
        "outputId": "824692d5-fcff-4218-c510-f4de7bcd96a1"
      },
      "execution_count": null,
      "outputs": [
        {
          "output_type": "stream",
          "name": "stdout",
          "text": [
            "Odd\n",
            "1\n",
            "Even\n",
            "2\n",
            "Odd\n",
            "Even\n",
            "4\n",
            "Odd\n"
          ]
        }
      ]
    },
    {
      "cell_type": "markdown",
      "source": [
        "# New Section"
      ],
      "metadata": {
        "id": "y3-aUKYF2_bd"
      }
    },
    {
      "cell_type": "markdown",
      "source": [
        "# New Section"
      ],
      "metadata": {
        "id": "XRV2QiXU3ACw"
      }
    },
    {
      "cell_type": "code",
      "source": [
        "def function():\n",
        "  print(\"This is first function\");\n",
        "function()"
      ],
      "metadata": {
        "colab": {
          "base_uri": "https://localhost:8080/"
        },
        "id": "outrrLVcSc4u",
        "outputId": "7e2d41eb-15d3-41ff-e0f1-2411ebacde73"
      },
      "execution_count": null,
      "outputs": [
        {
          "output_type": "stream",
          "name": "stdout",
          "text": [
            "This is first function\n"
          ]
        }
      ]
    },
    {
      "cell_type": "markdown",
      "source": [
        "print(\"Black dove, where are you going ?\")\n"
      ],
      "metadata": {
        "id": "eT89FsqsYQ4j"
      }
    },
    {
      "cell_type": "markdown",
      "source": [
        "number = 10\n",
        "type(number)"
      ],
      "metadata": {
        "id": "wgsLSb-7YhGG"
      }
    },
    {
      "cell_type": "code",
      "source": [
        "number = 10\n",
        "type(number)\n",
        "\n"
      ],
      "metadata": {
        "colab": {
          "base_uri": "https://localhost:8080/"
        },
        "id": "XTQg_0RaYtAV",
        "outputId": "6f374e29-8a01-4a4c-f86d-bac56820b6aa"
      },
      "execution_count": null,
      "outputs": [
        {
          "output_type": "execute_result",
          "data": {
            "text/plain": [
              "int"
            ]
          },
          "metadata": {},
          "execution_count": 3
        }
      ]
    },
    {
      "cell_type": "code",
      "source": [
        "str(number)"
      ],
      "metadata": {
        "colab": {
          "base_uri": "https://localhost:8080/",
          "height": 36
        },
        "id": "c_5sJsPCYyKs",
        "outputId": "24da40a4-dd32-49e8-9406-89a0af571ff3"
      },
      "execution_count": null,
      "outputs": [
        {
          "output_type": "execute_result",
          "data": {
            "text/plain": [
              "'10'"
            ],
            "application/vnd.google.colaboratory.intrinsic+json": {
              "type": "string"
            }
          },
          "metadata": {},
          "execution_count": 4
        }
      ]
    },
    {
      "cell_type": "code",
      "source": [
        "def greeting(name):\n",
        "  print(\"Ram Ram \" + name)\n",
        "\n",
        "def AreaOfTriangele(n1, n2):\n",
        "  return 0.5 * n1 * n2\n",
        "\n",
        "\n",
        "greeting('shivam')\n",
        "AreaOfTriangele(10, 20)"
      ],
      "metadata": {
        "colab": {
          "base_uri": "https://localhost:8080/"
        },
        "id": "yrid80AOY6wx",
        "outputId": "0647663b-d318-4bd1-cea5-7677ecccc562"
      },
      "execution_count": null,
      "outputs": [
        {
          "output_type": "stream",
          "name": "stdout",
          "text": [
            "Ram Ram shivam\n"
          ]
        },
        {
          "output_type": "execute_result",
          "data": {
            "text/plain": [
              "100.0"
            ]
          },
          "metadata": {},
          "execution_count": 8
        }
      ]
    },
    {
      "cell_type": "code",
      "source": [
        "print('cat' < 'dog')"
      ],
      "metadata": {
        "colab": {
          "base_uri": "https://localhost:8080/"
        },
        "id": "eVElNMJkaonj",
        "outputId": "16a0a6b7-d46d-454c-af4a-70980b700789"
      },
      "execution_count": null,
      "outputs": [
        {
          "output_type": "stream",
          "name": "stdout",
          "text": [
            "True\n"
          ]
        }
      ]
    },
    {
      "cell_type": "code",
      "source": [
        "print(1 != \"1\")"
      ],
      "metadata": {
        "colab": {
          "base_uri": "https://localhost:8080/"
        },
        "id": "02sRNsT4bUSV",
        "outputId": "65028bdd-0fc0-476d-b9e2-e7cdd40ae4ae"
      },
      "execution_count": null,
      "outputs": [
        {
          "output_type": "stream",
          "name": "stdout",
          "text": [
            "True\n"
          ]
        }
      ]
    },
    {
      "cell_type": "code",
      "source": [
        "print(\"Y\" > \"C \" and \"B\" > \"M\")"
      ],
      "metadata": {
        "colab": {
          "base_uri": "https://localhost:8080/"
        },
        "id": "0cfaLdECbl-J",
        "outputId": "7ea0e593-5993-4eb2-ab5a-4306c120203c"
      },
      "execution_count": null,
      "outputs": [
        {
          "output_type": "stream",
          "name": "stdout",
          "text": [
            "False\n"
          ]
        }
      ]
    },
    {
      "cell_type": "code",
      "source": [
        "print( not 42 == \"Ans\")"
      ],
      "metadata": {
        "colab": {
          "base_uri": "https://localhost:8080/"
        },
        "id": "wujUGaTWbwjq",
        "outputId": "27d367e9-ebe4-4804-cdb1-d272c4387255"
      },
      "execution_count": null,
      "outputs": [
        {
          "output_type": "stream",
          "name": "stdout",
          "text": [
            "True\n"
          ]
        }
      ]
    },
    {
      "cell_type": "code",
      "source": [
        "def do_even(number):\n",
        "  return 0 == number % 2\n",
        "\n",
        "do_even(0)"
      ],
      "metadata": {
        "colab": {
          "base_uri": "https://localhost:8080/"
        },
        "id": "B3RdPztRcLUb",
        "outputId": "ac68bb01-ac87-4daf-ff90-709246882811"
      },
      "execution_count": null,
      "outputs": [
        {
          "output_type": "execute_result",
          "data": {
            "text/plain": [
              "True"
            ]
          },
          "metadata": {},
          "execution_count": 16
        }
      ]
    }
  ]
}